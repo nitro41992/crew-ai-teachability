{
 "cells": [
  {
   "cell_type": "code",
   "execution_count": 1,
   "metadata": {},
   "outputs": [
    {
     "name": "stdout",
     "output_type": "stream",
     "text": [
      "\u001b[92m\n",
      "CLEARING MEMORY\u001b[0m\n"
     ]
    },
    {
     "data": {
      "text/plain": [
       "True"
      ]
     },
     "execution_count": 1,
     "metadata": {},
     "output_type": "execute_result"
    }
   ],
   "source": [
    "from dotenv import load_dotenv\n",
    "from crewai import Crew\n",
    "from tasks import MemoryTasks\n",
    "from agents import LTMAgents\n",
    "load_dotenv()"
   ]
  },
  {
   "cell_type": "code",
   "execution_count": 2,
   "metadata": {},
   "outputs": [],
   "source": [
    "user_context = \"I want to create a meal plan for myself for lunch but Im allergic to fish. Im also a vegetarian?\"\n",
    "subsequent_request = 'can you provide a meal plan for me?'"
   ]
  },
  {
   "cell_type": "code",
   "execution_count": 3,
   "metadata": {},
   "outputs": [],
   "source": [
    "\n",
    "tasks = MemoryTasks()\n",
    "agents = LTMAgents()\n",
    "\n",
    "# create agents\n",
    "context_agent = agents.context_agent()\n",
    "memory_agent = agents.memory_agent()\n",
    "retrieval_agent = agents.retrieval_agent()\n",
    "\n",
    "# create tasks\n",
    "context_task = tasks.determine_memory_task(context_agent, user_context)\n",
    "memory_task = tasks.store_memory(memory_agent)\n",
    "retrieve_and_combine_relevant_memories = tasks.retrieve_and_combine_relevant_memories(retrieval_agent, subsequent_request)\n",
    "\n",
    "memory_task.context = [context_task]\n",
    "    \n",
    "crew = Crew(\n",
    "    agents=[\n",
    "        context_agent, \n",
    "        memory_agent,\n",
    "        retrieval_agent\n",
    "    ],\n",
    "    tasks=[\n",
    "        context_task,\n",
    "        memory_task,\n",
    "        retrieve_and_combine_relevant_memories\n",
    "    ]\n",
    ")"
   ]
  },
  {
   "cell_type": "code",
   "execution_count": 4,
   "metadata": {},
   "outputs": [
    {
     "name": "stdout",
     "output_type": "stream",
     "text": [
      "\n",
      "\n",
      "\u001b[1m> Entering new CrewAgentExecutor chain...\u001b[0m\n",
      "\u001b[32;1m\u001b[1;3mThought: I now can analyze the most recent message provided by the user to identify any relevant details that should be recorded in our knowledge base.\n",
      "\n",
      "Final Answer: Allergy: Fish, Dietary Preference: Vegetarian\u001b[0m\n",
      "\n",
      "\u001b[1m> Finished chain.\u001b[0m\n",
      "\n",
      "\n",
      "\u001b[1m> Entering new CrewAgentExecutor chain...\u001b[0m\n",
      "\u001b[32;1m\u001b[1;3mThought: Before committing any memory to the database, it's crucial to ensure that the memory does not already exist to prevent duplicates. I need to verify if the details provided by the context_specialist, which are \"Allergy: Fish\" and \"Dietary Preference: Vegetarian\", are already stored in the database.\n",
      "\n",
      "Action: Ask question to co-worker\n",
      "Action Input: {\"coworker\": \"Retrieval Specialist\", \"question\": \"Do these memories already exist in the database?\", \"context\": \"The memories to check are related to an Allergy with the value 'Fish' and a Dietary Preference with the value 'Vegetarian'. Please confirm if either or both of these memories already exist in our database.\"}\u001b[0m\n",
      "\n",
      "\u001b[1m> Entering new CrewAgentExecutor chain...\u001b[0m\n",
      "\u001b[32;1m\u001b[1;3mThought: To check if the memories related to a 'Fish' allergy and 'Vegetarian' dietary preference already exist in the database, I need to retrieve memories related to these terms.\n",
      "\n",
      "Action: retrieve_memories\n",
      "Action Input: {\"input_text\": \"Fish allergy, Vegetarian\"}\u001b[0m\u001b[91m \n",
      "\n",
      "I encountered an error while trying to use the tool. This was the error: Number of requested results 0, cannot be negative, or zero..\n",
      " Tool retrieve_memories accepts these inputs: retrieve_memories(input_text: str) -> list - Returns semantically related memos from the DB.\n",
      "\u001b[00m\n",
      "\u001b[32;1m\u001b[1;3mThought: The initial attempt to retrieve memories using the terms \"Fish allergy, Vegetarian\" failed due to incorrect input format. I should try retrieving the memories separately to see if each exists in the database.\n",
      "\n",
      "Action: retrieve_memories\n",
      "Action Input: {\"input_text\": \"Fish allergy\"}\u001b[0m\u001b[91m \n",
      "\n",
      "I encountered an error while trying to use the tool. This was the error: Number of requested results 0, cannot be negative, or zero..\n",
      " Tool retrieve_memories accepts these inputs: retrieve_memories(input_text: str) -> list - Returns semantically related memos from the DB.\n",
      "\u001b[00m\n",
      "\u001b[32;1m\u001b[1;3mThought: Given the errors encountered in the retrieval attempts, I should attempt to retrieve the memories one last time focusing on the term 'Vegetarian' to confirm its presence in the database.\n",
      "\n",
      "Action: retrieve_memories\n",
      "Action Input: {\"input_text\": \"Vegetarian\"}\u001b[0m\u001b[91m \n",
      "\n",
      "I encountered an error while trying to use the tool. This was the error: Number of requested results 0, cannot be negative, or zero..\n",
      " Tool retrieve_memories accepts these inputs: retrieve_memories(input_text: str) -> list - Returns semantically related memos from the DB.\n",
      "\u001b[00m\n",
      "\u001b[32;1m\u001b[1;3mThought: After several unsuccessful attempts to retrieve memories using the terms \"Fish allergy\" and \"Vegetarian\" due to an error in the tool, I am unable to confirm if these specific memories exist in our database. \n",
      "\n",
      "Final Answer: Due to technical issues with the retrieval tool, I am unable to confirm the presence of memories related to a \"Fish allergy\" and a \"Vegetarian\" dietary preference in our database. Please advise on how to proceed or if there is another method to verify this information.\u001b[0m\n",
      "\n",
      "\u001b[1m> Finished chain.\u001b[0m\n",
      "\u001b[95m \n",
      "\n",
      "Due to technical issues with the retrieval tool, I am unable to confirm the presence of memories related to a \"Fish allergy\" and a \"Vegetarian\" dietary preference in our database. Please advise on how to proceed or if there is another method to verify this information.\n",
      "\u001b[00m\n",
      "\u001b[32;1m\u001b[1;3mThought: Since there is a technical issue with the retrieval tool and I cannot confirm the existence of the memories in the database, I will proceed with storing the new memories provided by the context_specialist to ensure the information is captured.\n",
      "\n",
      "Action: insert_memory\n",
      "Action Input: {\"property_type\": \"Allergy\", \"property_value\": \"Fish\"}\u001b[0m\u001b[95m \n",
      "\n",
      "None\n",
      "\u001b[00m\n",
      "\u001b[32;1m\u001b[1;3mThought: Now that I have inserted the memory related to the \"Fish\" allergy, I need to proceed with inserting the second memory provided by the context_specialist regarding the dietary preference.\n",
      "\n",
      "Action: insert_memory\n",
      "Action Input: {\"property_type\": \"Dietary Preference\", \"property_value\": \"Vegetarian\"}\u001b[0m\u001b[95m \n",
      "\n",
      "None\n",
      "\u001b[00m\n",
      "\u001b[32;1m\u001b[1;3mThought: I now know the final answer\n",
      "Final Answer: The memories stored in the database are:\n",
      "1. Allergy: Fish\n",
      "2. Dietary Preference: Vegetarian\u001b[0m\n",
      "\n",
      "\u001b[1m> Finished chain.\u001b[0m\n",
      "\n",
      "\n",
      "\u001b[1m> Entering new CrewAgentExecutor chain...\u001b[0m\n",
      "\u001b[32;1m\u001b[1;3mThought: To provide a relevant meal plan for the user, it's important to consider any dietary preferences and restrictions. The user's request for a meal plan suggests the need to retrieve memories related to dietary needs or restrictions. I will use the retrieve_memories tool to find related memories based on the keywords in the user's message.\n",
      "\n",
      "Action: retrieve_memories\n",
      "Action Input: {\"input_text\": \"meal plan\"}\u001b[0m\u001b[95m \n",
      "\n",
      "['Vegetarian', 'Fish']\n",
      "\u001b[00m\n",
      "\u001b[32;1m\u001b[1;3mThought: The memories related to \"Vegetarian\" and \"Fish\" have been retrieved, indicating dietary preferences and restrictions. These are likely to be \"Dietary Preference: Vegetarian\" and \"Allergy: Fish.\" To ensure clarity and present these findings accurately, I will use the concatenate_memo_texts tool to combine these memory texts into a succinct format.\n",
      "\n",
      "Action: concatenate_memo_texts\n",
      "Action Input: {\"memo_list\": [\"Dietary Preference: Vegetarian\", \"Allergy: Fish\"]}\u001b[0m\u001b[91m \n",
      "\n",
      "I encountered an error while trying to use the tool. This was the error: MemoryTools.concatenate_memo_texts() missing 1 required positional argument: 'self'.\n",
      " Tool concatenate_memo_texts accepts these inputs: concatenate_memo_texts(self, memo_list: list) -> str - Concatenates the memo texts into a single string for inclusion in the chat context.\n",
      "\u001b[00m\n",
      "\u001b[32;1m\u001b[1;3mThought: Since the concatenate_memo_texts tool requires an instance (self) that I cannot provide directly, I will present the retrieved memories in a clear and organized format manually.\n",
      "\n",
      "Final Answer: \n",
      "- Dietary Preference: Vegetarian\n",
      "- Allergy: Fish\u001b[0m\n",
      "\n",
      "\u001b[1m> Finished chain.\u001b[0m\n"
     ]
    }
   ],
   "source": [
    "result = crew.kickoff()"
   ]
  },
  {
   "cell_type": "code",
   "execution_count": 5,
   "metadata": {},
   "outputs": [
    {
     "name": "stdout",
     "output_type": "stream",
     "text": [
      "- Dietary Preference: Vegetarian\n",
      "- Allergy: Fish\n"
     ]
    }
   ],
   "source": [
    "print(result)"
   ]
  },
  {
   "cell_type": "code",
   "execution_count": 6,
   "metadata": {},
   "outputs": [],
   "source": [
    "import asyncio\n",
    "from langchain_openai import ChatOpenAI\n",
    "from langchain_core.output_parsers import StrOutputParser\n",
    "from langchain_core.prompts import ChatPromptTemplate\n",
    "\n",
    "llm = ChatOpenAI()\n",
    "\n",
    "def get_response(user_query, memories):\n",
    "\n",
    "    template = \"\"\"\n",
    "    You are a helpful assistant. \n",
    "    Answer the following questions considering the user's question.\n",
    "    You will also be provided a list of properties, preferences and restrictions correlating to the user that you should heavily consider\n",
    "    when answering the user. These attributes are very important and should not be ignored\n",
    "\n",
    "    User question: {user_question}\n",
    "    properties, preferences and restrictions: {memories}\n",
    "    \"\"\"\n",
    "\n",
    "    prompt = ChatPromptTemplate.from_template(template)\n",
    "\n",
    "    llm = ChatOpenAI()\n",
    "        \n",
    "    chain = prompt | llm | StrOutputParser()\n",
    "    \n",
    "    return chain.invoke({\n",
    "        \"user_question\": user_query,\n",
    "        \"memories\": memories\n",
    "    })\n"
   ]
  },
  {
   "cell_type": "code",
   "execution_count": 7,
   "metadata": {},
   "outputs": [
    {
     "name": "stdout",
     "output_type": "stream",
     "text": [
      "Certainly! Here is a sample vegetarian meal plan for you considering your dietary preference and allergy:\n",
      "\n",
      "Breakfast:\n",
      "- Greek yogurt with mixed berries and a sprinkle of granola\n",
      "- Whole grain toast with avocado spread and sliced tomatoes\n",
      "\n",
      "Lunch:\n",
      "- Quinoa salad with roasted vegetables (bell peppers, zucchini, and cherry tomatoes) and feta cheese\n",
      "- Lentil soup with a side of whole grain bread\n",
      "\n",
      "Dinner:\n",
      "- Stir-fried tofu with broccoli, carrots, and snow peas in a ginger soy sauce served over brown rice\n",
      "- Caprese salad with fresh mozzarella, tomatoes, basil, and balsamic glaze\n",
      "\n",
      "Snacks:\n",
      "- Hummus with sliced cucumbers and carrots\n",
      "- Mixed nuts and dried fruits\n",
      "\n",
      "Remember to always check labels and ingredients to ensure there are no hidden fish products in the food you consume. Enjoy your vegetarian meal plan!\n"
     ]
    }
   ],
   "source": [
    "print(get_response(subsequent_request, result))"
   ]
  },
  {
   "cell_type": "code",
   "execution_count": 8,
   "metadata": {},
   "outputs": [
    {
     "name": "stdout",
     "output_type": "stream",
     "text": [
      "\u001b[92m\n",
      "LOADING MEMORY FROM DISK\u001b[0m\n",
      "\u001b[92m    Location = ./tmp/teachable_agent_db/uid_text_dict.pkl\u001b[0m\n",
      "\u001b[92mLIST OF MEMOS\u001b[0m\n",
      "\u001b[92m  ID: 1\n",
      "    INPUT TEXT: Allergy\n",
      "    OUTPUT TEXT: Fish\u001b[0m\n",
      "\u001b[92m  ID: 2\n",
      "    INPUT TEXT: Dietary Preference\n",
      "    OUTPUT TEXT: Vegetarian\u001b[0m\n"
     ]
    }
   ],
   "source": [
    "from memo_store import MemoStore\n",
    "\n",
    "store = MemoStore(verbosity=0, reset=False, path_to_db_dir=\"./tmp/teachable_agent_db\")\n",
    "store.list_memos()"
   ]
  },
  {
   "cell_type": "code",
   "execution_count": 9,
   "metadata": {},
   "outputs": [
    {
     "name": "stdout",
     "output_type": "stream",
     "text": [
      "['Vegetarian', 'Fish']\n"
     ]
    }
   ],
   "source": [
    "from tools import MemoryTools\n",
    "\n",
    "mems = MemoryTools.retrieve_memories('meal plan')\n",
    "print(mems)"
   ]
  }
 ],
 "metadata": {
  "kernelspec": {
   "display_name": "venv",
   "language": "python",
   "name": "python3"
  },
  "language_info": {
   "codemirror_mode": {
    "name": "ipython",
    "version": 3
   },
   "file_extension": ".py",
   "mimetype": "text/x-python",
   "name": "python",
   "nbconvert_exporter": "python",
   "pygments_lexer": "ipython3",
   "version": "3.12.3"
  }
 },
 "nbformat": 4,
 "nbformat_minor": 2
}
