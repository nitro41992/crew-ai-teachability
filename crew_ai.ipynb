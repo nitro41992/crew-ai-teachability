{
 "cells": [
  {
   "cell_type": "code",
   "execution_count": 1,
   "metadata": {},
   "outputs": [
    {
     "name": "stdout",
     "output_type": "stream",
     "text": [
      "\u001b[92m\n",
      "CLEARING MEMORY\u001b[0m\n"
     ]
    },
    {
     "data": {
      "text/plain": [
       "True"
      ]
     },
     "execution_count": 1,
     "metadata": {},
     "output_type": "execute_result"
    }
   ],
   "source": [
    "from dotenv import load_dotenv\n",
    "from crewai import Crew\n",
    "from tasks import MemoryTasks\n",
    "from agents import LTMAgents\n",
    "load_dotenv()"
   ]
  },
  {
   "cell_type": "code",
   "execution_count": 2,
   "metadata": {},
   "outputs": [],
   "source": [
    "user_context = \"I want to create a meal plan for myself for lunch but Im allergic to fish. Im also a vegetarian?\"\n",
    "subsequent_request = 'can you provide a meal plan for me?'"
   ]
  },
  {
   "cell_type": "code",
   "execution_count": 3,
   "metadata": {},
   "outputs": [],
   "source": [
    "\n",
    "tasks = MemoryTasks()\n",
    "agents = LTMAgents()\n",
    "\n",
    "# create agents\n",
    "context_agent = agents.context_agent()\n",
    "memory_agent = agents.memory_agent()\n",
    "retrieval_agent = agents.retrieval_agent()\n",
    "\n",
    "# create tasks\n",
    "context_task = tasks.determine_memory_task(context_agent, user_context)\n",
    "memory_task = tasks.store_memory(memory_agent)\n",
    "retrieve_and_combine_relevant_memories = tasks.retrieve_and_combine_relevant_memories(retrieval_agent, subsequent_request)\n",
    "\n",
    "memory_task.context = [context_task]\n",
    "    \n",
    "crew = Crew(\n",
    "    agents=[\n",
    "        context_agent, \n",
    "        memory_agent,\n",
    "        retrieval_agent\n",
    "    ],\n",
    "    tasks=[\n",
    "        context_task,\n",
    "        memory_task,\n",
    "        retrieve_and_combine_relevant_memories\n",
    "    ]\n",
    ")"
   ]
  },
  {
   "cell_type": "code",
   "execution_count": 4,
   "metadata": {},
   "outputs": [
    {
     "name": "stdout",
     "output_type": "stream",
     "text": [
      "\n",
      "\n",
      "\u001b[1m> Entering new CrewAgentExecutor chain...\u001b[0m\n",
      "\u001b[32;1m\u001b[1;3mI now can give a great answer\n",
      "\n",
      "Final Answer: Allergy: Fish\n",
      "Vegetarian: True\u001b[0m\n",
      "\n",
      "\u001b[1m> Finished chain.\u001b[0m\n",
      "\n",
      "\n",
      "\u001b[1m> Entering new CrewAgentExecutor chain...\u001b[0m\n",
      "\u001b[32;1m\u001b[1;3mI need to store the provided memory about fish allergy and being a vegetarian in the database. I should use the insert_memory tool to store the property type and property value.\n",
      "\n",
      "Action: insert_memory\n",
      "Action Input: {\"property_type\": \"Allergy\", \"property_value\": \"Fish\"}\u001b[0m\u001b[95m \n",
      "\n",
      "None\n",
      "\u001b[00m\n",
      "\u001b[32;1m\u001b[1;3mFinal Answer: The memory stored in the database is:\n",
      "Property Type: Allergy\n",
      "Property Value: Fish\u001b[0m\n",
      "\n",
      "\u001b[1m> Finished chain.\u001b[0m\n",
      "\n",
      "\n",
      "\u001b[1m> Entering new CrewAgentExecutor chain...\u001b[0m\n",
      "\u001b[32;1m\u001b[1;3mI need to retrieve relevant memories from the database based on the user's request for a meal plan. Since the user is asking for a meal plan, it's important to consider any allergies they may have, such as fish.\n",
      "\n",
      "Action: retrieve_memories\n",
      "Action Input: {\"input_text\": \"meal plan\"}\u001b[0m\u001b[95m \n",
      "\n",
      "['Fish']\n",
      "\u001b[00m\n",
      "\u001b[32;1m\u001b[1;3mFinal Answer: \n",
      "- Allergy: Fish\u001b[0m\n",
      "\n",
      "\u001b[1m> Finished chain.\u001b[0m\n"
     ]
    }
   ],
   "source": [
    "result = crew.kickoff()"
   ]
  },
  {
   "cell_type": "code",
   "execution_count": 5,
   "metadata": {},
   "outputs": [
    {
     "name": "stdout",
     "output_type": "stream",
     "text": [
      "- Allergy: Fish\n"
     ]
    }
   ],
   "source": [
    "print(result)"
   ]
  },
  {
   "cell_type": "code",
   "execution_count": 6,
   "metadata": {},
   "outputs": [],
   "source": [
    "import asyncio\n",
    "from langchain_openai import ChatOpenAI\n",
    "from langchain_core.output_parsers import StrOutputParser\n",
    "from langchain_core.prompts import ChatPromptTemplate\n",
    "\n",
    "llm = ChatOpenAI()\n",
    "\n",
    "def get_response(user_query, memories):\n",
    "\n",
    "    template = \"\"\"\n",
    "    You are a helpful assistant. \n",
    "    Answer the following questions considering the user's question.\n",
    "    You will also be provided a list of properties, preferences and restrictions correlating to the user that you should heavily consider\n",
    "    when answering the user. These attributes are very important and should not be ignored\n",
    "\n",
    "    User question: {user_question}\n",
    "    properties, preferences and restrictions: {memories}\n",
    "    \"\"\"\n",
    "\n",
    "    prompt = ChatPromptTemplate.from_template(template)\n",
    "\n",
    "    llm = ChatOpenAI()\n",
    "        \n",
    "    chain = prompt | llm | StrOutputParser()\n",
    "    \n",
    "    return chain.invoke({\n",
    "        \"user_question\": user_query,\n",
    "        \"memories\": memories\n",
    "    })\n"
   ]
  },
  {
   "cell_type": "code",
   "execution_count": 11,
   "metadata": {},
   "outputs": [
    {
     "data": {
      "text/plain": [
       "'Certainly! I can definitely provide a meal plan for you. Since you have an allergy to fish, I will make sure to exclude any fish or fish products from the meal plan. Would you like the meal plan to be focused on any specific dietary preferences or goals, such as vegetarian, low-carb, or high-protein? Let me know any additional information or preferences you have so I can create a personalized meal plan for you.'"
      ]
     },
     "execution_count": 11,
     "metadata": {},
     "output_type": "execute_result"
    }
   ],
   "source": [
    "print(get_response(subsequent_request, result))"
   ]
  },
  {
   "cell_type": "code",
   "execution_count": 8,
   "metadata": {},
   "outputs": [
    {
     "name": "stdout",
     "output_type": "stream",
     "text": [
      "\u001b[92m\n",
      "LOADING MEMORY FROM DISK\u001b[0m\n",
      "\u001b[92m    Location = ./tmp/teachable_agent_db/uid_text_dict.pkl\u001b[0m\n",
      "\u001b[92mLIST OF MEMOS\u001b[0m\n",
      "\u001b[92m  ID: 1\n",
      "    INPUT TEXT: Allergy\n",
      "    OUTPUT TEXT: Fish\u001b[0m\n"
     ]
    }
   ],
   "source": [
    "from memo_store import MemoStore\n",
    "\n",
    "store = MemoStore(verbosity=0, reset=False, path_to_db_dir=\"./tmp/teachable_agent_db\")\n",
    "store.list_memos()"
   ]
  },
  {
   "cell_type": "code",
   "execution_count": 9,
   "metadata": {},
   "outputs": [
    {
     "name": "stdout",
     "output_type": "stream",
     "text": [
      "['Fish']\n"
     ]
    }
   ],
   "source": [
    "from tools import MemoryTools\n",
    "\n",
    "mems = MemoryTools.retrieve_memories('meal plan')\n",
    "print(mems)"
   ]
  }
 ],
 "metadata": {
  "kernelspec": {
   "display_name": "venv",
   "language": "python",
   "name": "python3"
  },
  "language_info": {
   "codemirror_mode": {
    "name": "ipython",
    "version": 3
   },
   "file_extension": ".py",
   "mimetype": "text/x-python",
   "name": "python",
   "nbconvert_exporter": "python",
   "pygments_lexer": "ipython3",
   "version": "3.12.3"
  }
 },
 "nbformat": 4,
 "nbformat_minor": 2
}
