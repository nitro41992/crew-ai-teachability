{
 "cells": [
  {
   "cell_type": "code",
   "execution_count": 1,
   "metadata": {},
   "outputs": [
    {
     "name": "stdout",
     "output_type": "stream",
     "text": [
      "\u001b[92m\n",
      "CLEARING MEMORY\u001b[0m\n"
     ]
    },
    {
     "data": {
      "text/plain": [
       "True"
      ]
     },
     "execution_count": 1,
     "metadata": {},
     "output_type": "execute_result"
    }
   ],
   "source": [
    "from dotenv import load_dotenv\n",
    "from crewai import Crew\n",
    "from tasks import MemoryTasks\n",
    "from agents import LTMAgents\n",
    "load_dotenv()"
   ]
  },
  {
   "cell_type": "code",
   "execution_count": 2,
   "metadata": {},
   "outputs": [],
   "source": [
    "user_context = \"I want to create a meal plan for myself for lunch but Im allergic to fish. Im also a vegetarian?\""
   ]
  },
  {
   "cell_type": "code",
   "execution_count": 3,
   "metadata": {},
   "outputs": [],
   "source": [
    "\n",
    "tasks = MemoryTasks()\n",
    "agents = LTMAgents()\n",
    "\n",
    "# create agents\n",
    "context_agent = agents.context_agent()\n",
    "memory_agent = agents.memory_agent()\n",
    "retrieval_agent = agents.retrieval_agent()\n",
    "\n",
    "# create tasks\n",
    "context_task = tasks.determine_memory_task(context_agent, user_context)\n",
    "memory_task = tasks.store_memory(memory_agent)\n",
    "retrieve_and_combine_relevant_memories = tasks.retrieve_and_combine_relevant_memories(retrieval_agent, user_context)\n",
    "\n",
    "memory_task.context = [context_task]\n",
    "    \n",
    "crew = Crew(\n",
    "    agents=[\n",
    "        context_agent, \n",
    "        memory_agent,\n",
    "        retrieval_agent\n",
    "    ],\n",
    "    tasks=[\n",
    "        context_task,\n",
    "        memory_task,\n",
    "        retrieve_and_combine_relevant_memories\n",
    "    ]\n",
    ")"
   ]
  },
  {
   "cell_type": "code",
   "execution_count": 4,
   "metadata": {},
   "outputs": [
    {
     "name": "stdout",
     "output_type": "stream",
     "text": [
      "\n",
      "\n",
      "\u001b[1m> Entering new CrewAgentExecutor chain...\u001b[0m\n",
      "\u001b[32;1m\u001b[1;3mI now can give a great answer\n",
      "\n",
      "Final Answer: Allergy: Fish, Dietary Preference: Vegetarian.\u001b[0m\n",
      "\n",
      "\u001b[1m> Finished chain.\u001b[0m\n",
      "\n",
      "\n",
      "\u001b[1m> Entering new CrewAgentExecutor chain...\u001b[0m\n",
      "\u001b[32;1m\u001b[1;3mI need to focus on storing the memory provided by the context_specialist accurately in the database using the insert_memory tool. I should pay attention to the property type and property value to ensure the memory is stored correctly.\n",
      "\n",
      "Action: \n",
      "insert_memory\n",
      "\n",
      "Action Input: \n",
      "{\n",
      "  \"property_type\": \"Allergy\",\n",
      "  \"property_value\": \"Fish\"\n",
      "}\n",
      "\u001b[0m\u001b[93m\n",
      "INPUT-OUTPUT PAIR ADDED TO VECTOR DATABASE:\n",
      "  ID\n",
      "    1\n",
      "  INPUT\n",
      "    Allergy\n",
      "  OUTPUT\n",
      "    Fish\n",
      "\u001b[0m\n",
      "\u001b[95m \n",
      "\n",
      "None\n",
      "\u001b[00m\n",
      "\u001b[32;1m\u001b[1;3mFinal Answer: The memory \"Allergy: Fish\" has been successfully stored in the database.\u001b[0m\n",
      "\n",
      "\u001b[1m> Finished chain.\u001b[0m\n",
      "\n",
      "\n",
      "\u001b[1m> Entering new CrewAgentExecutor chain...\u001b[0m\n",
      "\u001b[32;1m\u001b[1;3mI need to retrieve memories related to the user's allergies and dietary preferences to create a personalized meal plan for lunch.\n",
      "\n",
      "Action: retrieve_memories\n",
      "Action Input: {\"input_text\": \"allergies and dietary preferences for meal planning\"}\u001b[0m\u001b[93m\n",
      "INPUT-OUTPUT PAIR RETRIEVED FROM VECTOR DATABASE:\n",
      "  INPUT1\n",
      "    Allergy\n",
      "  OUTPUT\n",
      "    Fish\n",
      "  DISTANCE\n",
      "    1.0845848538632292\u001b[0m\n",
      "\u001b[95m \n",
      "\n",
      "['Fish']\n",
      "\u001b[00m\n",
      "\u001b[32;1m\u001b[1;3mFinal Answer: \n",
      "- Allergy: Fish\n",
      "- Dietary Preference: Vegetarian\u001b[0m\n",
      "\n",
      "\u001b[1m> Finished chain.\u001b[0m\n"
     ]
    }
   ],
   "source": [
    "result = crew.kickoff()"
   ]
  },
  {
   "cell_type": "code",
   "execution_count": 6,
   "metadata": {},
   "outputs": [
    {
     "name": "stdout",
     "output_type": "stream",
     "text": [
      "- Allergy: Fish\n",
      "- Dietary Preference: Vegetarian\n"
     ]
    }
   ],
   "source": [
    "print(result)"
   ]
  },
  {
   "cell_type": "code",
   "execution_count": 18,
   "metadata": {},
   "outputs": [],
   "source": [
    "import asyncio\n",
    "from langchain_openai import ChatOpenAI\n",
    "from langchain_core.output_parsers import StrOutputParser\n",
    "from langchain_core.prompts import ChatPromptTemplate\n",
    "\n",
    "llm = ChatOpenAI(model='gpt-3.5-turbo-0125')\n",
    "\n",
    "def get_response(user_query, memories):\n",
    "\n",
    "    template = \"\"\"\n",
    "    You are a helpful assistant. \n",
    "    Answer the following questions considering the user's question.\n",
    "    You will also be provided a list of properties, preferences and restrictions correlating to the user that you should heavily consider\n",
    "    when answering the user. These attributes are very important and should not be ignored\n",
    "\n",
    "    User question: {user_question}\n",
    "    properties, preferences and restrictions: {memories}\n",
    "    \"\"\"\n",
    "\n",
    "    prompt = ChatPromptTemplate.from_template(template)\n",
    "\n",
    "    llm = ChatOpenAI()\n",
    "        \n",
    "    chain = prompt | llm | StrOutputParser()\n",
    "    \n",
    "    return chain.invoke({\n",
    "        \"user_question\": user_query,\n",
    "        \"memories\": memories\n",
    "    })\n"
   ]
  },
  {
   "cell_type": "code",
   "execution_count": 19,
   "metadata": {},
   "outputs": [
    {
     "name": "stdout",
     "output_type": "stream",
     "text": [
      "Certainly! I can provide you with a vegetarian meal plan that excludes fish. Here is a sample meal plan for a day:\n",
      "\n",
      "Breakfast:\n",
      "- Greek yogurt with mixed berries and a sprinkle of granola\n",
      "- Whole wheat toast with avocado slices\n",
      "\n",
      "Lunch:\n",
      "- Quinoa salad with roasted vegetables (bell peppers, zucchini, cherry tomatoes) and a lemon vinaigrette dressing\n",
      "- Hummus and veggie wrap with spinach, cucumbers, and roasted red peppers\n",
      "\n",
      "Dinner:\n",
      "- Lentil and vegetable stir-fry with broccoli, bell peppers, carrots, and snap peas served over brown rice\n",
      "- Roasted sweet potato wedges with a side of steamed asparagus\n",
      "\n",
      "Snacks:\n",
      "- Mixed nuts\n",
      "- Fresh fruit (apple slices, grapes, or orange segments)\n",
      "\n",
      "Remember to drink plenty of water throughout the day and adjust portion sizes according to your individual needs. Feel free to customize this meal plan to suit your tastes and preferences!\n"
     ]
    }
   ],
   "source": [
    "query='can you provide a meal plan for me?'\n",
    "print(get_response(query, result))"
   ]
  }
 ],
 "metadata": {
  "kernelspec": {
   "display_name": "venv",
   "language": "python",
   "name": "python3"
  },
  "language_info": {
   "codemirror_mode": {
    "name": "ipython",
    "version": 3
   },
   "file_extension": ".py",
   "mimetype": "text/x-python",
   "name": "python",
   "nbconvert_exporter": "python",
   "pygments_lexer": "ipython3",
   "version": "3.12.3"
  }
 },
 "nbformat": 4,
 "nbformat_minor": 2
}
