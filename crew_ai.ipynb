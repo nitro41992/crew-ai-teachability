{
 "cells": [
  {
   "cell_type": "code",
   "execution_count": 1,
   "metadata": {},
   "outputs": [
    {
     "name": "stdout",
     "output_type": "stream",
     "text": [
      "\u001b[92m\n",
      "CLEARING MEMORY\u001b[0m\n"
     ]
    },
    {
     "data": {
      "text/plain": [
       "True"
      ]
     },
     "execution_count": 1,
     "metadata": {},
     "output_type": "execute_result"
    }
   ],
   "source": [
    "from dotenv import load_dotenv\n",
    "from crewai import Crew\n",
    "from tasks import MemoryTasks\n",
    "from agents import LTMAgents\n",
    "load_dotenv()"
   ]
  },
  {
   "cell_type": "code",
   "execution_count": 2,
   "metadata": {},
   "outputs": [],
   "source": [
    "user_context = \"I want to create a meal plan for myself for lunch but Im allergic to fish?\""
   ]
  },
  {
   "cell_type": "code",
   "execution_count": 3,
   "metadata": {},
   "outputs": [],
   "source": [
    "\n",
    "tasks = MemoryTasks()\n",
    "agents = LTMAgents()\n",
    "\n",
    "# create agents\n",
    "context_agent = agents.context_agent()\n",
    "memory_agent = agents.memory_agent()\n",
    "retrieval_agent = agents.retrieval_agent()\n",
    "\n",
    "# create tasks\n",
    "context_task = tasks.determine_memory_task(context_agent, user_context)\n",
    "memory_task = tasks.store_memory(memory_agent)\n",
    "retrieve_and_combine_relevant_memories = tasks.retrieve_and_combine_relevant_memories(retrieval_agent, user_context)\n",
    "\n",
    "memory_task.context = [context_task]\n",
    "    \n",
    "crew = Crew(\n",
    "    agents=[\n",
    "        context_agent, \n",
    "        memory_agent,\n",
    "        retrieval_agent\n",
    "    ],\n",
    "    tasks=[\n",
    "        context_task,\n",
    "        memory_task,\n",
    "        retrieve_and_combine_relevant_memories\n",
    "    ]\n",
    ")"
   ]
  },
  {
   "cell_type": "code",
   "execution_count": 4,
   "metadata": {},
   "outputs": [
    {
     "name": "stdout",
     "output_type": "stream",
     "text": [
      "\n",
      "\n",
      "\u001b[1m> Entering new CrewAgentExecutor chain...\u001b[0m\n",
      "\u001b[32;1m\u001b[1;3mI now can give a great answer\n",
      "\n",
      "Final Answer: Allergy: Fish\u001b[0m\n",
      "\n",
      "\u001b[1m> Finished chain.\u001b[0m\n",
      "\n",
      "\n",
      "\u001b[1m> Entering new CrewAgentExecutor chain...\u001b[0m\n",
      "\u001b[32;1m\u001b[1;3mI should use the insert_memory tool to store the memory provided by the context_specialist in the database.\n",
      "\n",
      "Action: insert_memory\n",
      "Action Input: {\"property_type\": \"Allergy\", \"property_value\": \"Fish\"}\u001b[0m\u001b[93m\n",
      "INPUT-OUTPUT PAIR ADDED TO VECTOR DATABASE:\n",
      "  ID\n",
      "    1\n",
      "  INPUT\n",
      "    Allergy\n",
      "  OUTPUT\n",
      "    Fish\n",
      "\u001b[0m\n",
      "\u001b[95m \n",
      "\n",
      "None\n",
      "\u001b[00m\n",
      "\u001b[32;1m\u001b[1;3mFinal Answer: The memory \"Allergy: Fish\" has been successfully stored in the database.\u001b[0m\n",
      "\n",
      "\u001b[1m> Finished chain.\u001b[0m\n",
      "\n",
      "\n",
      "\u001b[1m> Entering new CrewAgentExecutor chain...\u001b[0m\n",
      "\u001b[32;1m\u001b[1;3mI need to retrieve the relevant memories from the database to inform the AI about the user's allergy to fish.\n",
      "\n",
      "Action: retrieve_memories\n",
      "Action Input: {\"input_text\": \"allergic to fish\"}\u001b[0m\u001b[93m\n",
      "INPUT-OUTPUT PAIR RETRIEVED FROM VECTOR DATABASE:\n",
      "  INPUT1\n",
      "    Allergy\n",
      "  OUTPUT\n",
      "    Fish\n",
      "  DISTANCE\n",
      "    0.8930003631027555\u001b[0m\n",
      "\u001b[95m \n",
      "\n",
      "['Fish']\n",
      "\u001b[00m\n",
      "\u001b[32;1m\u001b[1;3mFinal Answer: \n",
      "- Allergy: Fish\u001b[0m\n",
      "\n",
      "\u001b[1m> Finished chain.\u001b[0m\n"
     ]
    }
   ],
   "source": [
    "result = crew.kickoff()"
   ]
  },
  {
   "cell_type": "code",
   "execution_count": null,
   "metadata": {},
   "outputs": [],
   "source": []
  }
 ],
 "metadata": {
  "kernelspec": {
   "display_name": "venv",
   "language": "python",
   "name": "python3"
  },
  "language_info": {
   "codemirror_mode": {
    "name": "ipython",
    "version": 3
   },
   "file_extension": ".py",
   "mimetype": "text/x-python",
   "name": "python",
   "nbconvert_exporter": "python",
   "pygments_lexer": "ipython3",
   "version": "3.12.3"
  }
 },
 "nbformat": 4,
 "nbformat_minor": 2
}
